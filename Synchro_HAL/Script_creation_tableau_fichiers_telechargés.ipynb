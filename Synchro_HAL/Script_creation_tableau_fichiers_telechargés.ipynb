{
 "cells": [
  {
   "cell_type": "code",
   "execution_count": null,
   "id": "72ec88f6",
   "metadata": {},
   "outputs": [],
   "source": [
    "## Création du fichier de départ pour la liste des pdf téléchargés\n",
    "\n",
    "import os\n",
    "import gzip\n",
    "from lxml import etree\n",
    "\n",
    "# Dossiers\n",
    "base_dir = \"/data/Notices_Xml-tei_de_Hal/\"\n",
    "output_gz = \"/data/log/pdfs_deja_telecharges.txt.gz\"\n",
    "\n",
    "namespaces = {\"tei\": \"http://www.tei-c.org/ns/1.0\"}\n",
    "pdf_urls = set()\n",
    "fichiers_xml = []\n",
    "\n",
    "# Balayage des fichiers XML existants\n",
    "for root, _, files in os.walk(base_dir):\n",
    "    for file in files:\n",
    "        if file.endswith(\".xml\"):\n",
    "            fichiers_xml.append(os.path.join(root, file))\n",
    "\n",
    "print(f\"{len(fichiers_xml)} fichiers XML trouvés\")\n",
    "\n",
    "# Extraction des URLs de PDF\n",
    "for filepath in fichiers_xml:\n",
    "    try:\n",
    "        with open(filepath, 'rb') as f:\n",
    "            xml = etree.parse(f)\n",
    "\n",
    "        refs = xml.xpath('.//tei:edition[@type=\"current\"]/tei:ref', namespaces=namespaces)\n",
    "\n",
    "        for ref in refs:\n",
    "            target = ref.get(\"target\")\n",
    "            ref_type = ref.get(\"type\")\n",
    "            if target and ref_type == \"file\" and target.lower().endswith(\".pdf\"):\n",
    "                pdf_urls.add(target)\n",
    "\n",
    "    except Exception as e:\n",
    "        print(f\"Erreur lecture {filepath} : {e}\")\n",
    "\n",
    "print(f\"{len(pdf_urls)} URLs PDF extraites\")\n",
    "\n",
    "# Écriture dans le fichier gzip\n",
    "with gzip.open(output_gz, 'wt', encoding='utf-8') as gz_file:\n",
    "    for url in sorted(pdf_urls):\n",
    "        gz_file.write(url + \"\\n\")\n",
    "\n",
    "print(f\"Fichier {output_gz} écrit.\")\n"
   ]
  }
 ],
 "metadata": {
  "language_info": {
   "name": "python"
  }
 },
 "nbformat": 4,
 "nbformat_minor": 5
}
