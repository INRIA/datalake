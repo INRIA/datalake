{
 "cells": [
  {
   "cell_type": "code",
   "execution_count": null,
   "id": "ecc92604-e0d5-40e6-898b-5e64fdabb9f7",
   "metadata": {},
   "outputs": [],
   "source": [
    "import requests\n",
    "import pandas as pd\n",
    "import os\n",
    "os.makedirs(\"rechercheZenodo\", exist_ok=True)\n",
    "\n",
    "ACCESS_TOKEN = 'indiquer son TOKEN'\n",
    "url = 'https://zenodo.org/api/records'\n",
    "\n",
    "# Paramètres de la requête\n",
    "params = {\n",
    "    'q': 'Inria, Institut national de recherche en informatique et en automatique',\n",
    "    'access_token': ACCESS_TOKEN,\n",
    "    'sort': 'bestmatch',\n",
    "    'size': 100,  # Limite à 100 résultats par page\n",
    "    'publication_date': '*'\n",
    "}\n",
    "\n",
    "# Fonction pour récupérer les publications\n",
    "def get_publications():\n",
    "    publications = []\n",
    "    page = 1\n",
    "    while True:\n",
    "        params['page'] = page\n",
    "        response = requests.get(url, params=params)\n",
    "        if response.status_code == 200:\n",
    "            data = response.json()\n",
    "            hits = data['hits']['hits']\n",
    "            if not hits:\n",
    "                break\n",
    "            # Extraire les informations demandées\n",
    "            for record in hits:\n",
    "                creators = record['metadata'].get('creators', [])\n",
    "                # Concaténation des informations des créateurs (nom, affiliation, orcid)\n",
    "                creators_info = ', '.join([f\"{creator.get('name', 'N/A')} ({creator.get('affiliation', 'N/A')}, {creator.get('orcid', 'N/A')})\" for creator in creators])\n",
    "\n",
    "                # Institution: Concaténer toutes les affiliations des auteurs, en évitant les None\n",
    "                institutions = ', '.join([creator.get('affiliation') for creator in creators if creator.get('affiliation')])  # Inclut seulement les affiliations non None ou non vides\n",
    "\n",
    "                # Récupérer le type de ressource si disponible\n",
    "                publication_type = record['metadata'].get('resource_type', {}).get('type', 'N/A')\n",
    "\n",
    "                # Récupération des sujets (si disponibles)\n",
    "                subjects = record['metadata'].get('subjects', [])\n",
    "                if subjects:\n",
    "                    subjects_info = ', '.join([f\"{subject.get('term', 'N/A')} (ID: {subject.get('identifier', 'N/A')}, Scheme: {subject.get('scheme', 'N/A')})\" for subject in subjects])\n",
    "                else:\n",
    "                    subjects_info = 'N/A'\n",
    "\n",
    "                # Récupérer les keywords (mots-clés) si disponibles\n",
    "                keywords = record['metadata'].get('keywords', [])\n",
    "                if keywords:\n",
    "                    keywords_info = ', '.join(keywords)\n",
    "                else:\n",
    "                    keywords_info = 'N/A'\n",
    "\n",
    "                # Créer l'URL de Zenodo en utilisant l'identifiant de l'enregistrement\n",
    "                record_id = record['id']\n",
    "                url_zenodo = f\"https://zenodo.org/records/{record_id}\"\n",
    "\n",
    "                publications.append({\n",
    "                    'title': record['metadata'].get('title', 'N/A'),\n",
    "                    'publication_date': record['metadata'].get('publication_date', 'N/A'),\n",
    "                    'doi': record['metadata'].get('doi', 'N/A'),\n",
    "                    'creators': creators_info,\n",
    "                    'publication_type': publication_type,\n",
    "                    'access_right': record['metadata'].get('access_right', 'N/A'),\n",
    "                    'institution': institutions if institutions else 'N/A',  # Toutes les affiliations\n",
    "                    'subjects': subjects_info,  # Ajout des sujets formatés correctement\n",
    "                    'keywords': keywords_info,  # Ajout des mots-clés (keywords)\n",
    "                    'url_zenodo': url_zenodo  # URL Zenodo pour chaque publication\n",
    "                })\n",
    "            page += 1\n",
    "        else:\n",
    "            print(f\"Erreur lors de la récupération des données: {response.status_code}\")\n",
    "            break\n",
    "    return publications\n",
    "\n",
    "# Récupérer les publications et les mettre dans un DataFrame\n",
    "publications = get_publications()\n",
    "df_publications = pd.DataFrame(publications)\n",
    "\n",
    "df_publications\n"
   ]
  },
  {
   "cell_type": "code",
   "execution_count": 1,
   "id": "a4655fc7-853c-4c42-9ea7-c2499a951af7",
   "metadata": {},
   "outputs": [
    {
     "ename": "NameError",
     "evalue": "name 'df_publications' is not defined",
     "output_type": "error",
     "traceback": [
      "\u001b[31m---------------------------------------------------------------------------\u001b[39m",
      "\u001b[31mNameError\u001b[39m                                 Traceback (most recent call last)",
      "\u001b[36mCell\u001b[39m\u001b[36m \u001b[39m\u001b[32mIn[1]\u001b[39m\u001b[32m, line 1\u001b[39m\n\u001b[32m----> \u001b[39m\u001b[32m1\u001b[39m \u001b[43mdf_publications\u001b[49m.to_csv(\u001b[33m\"\u001b[39m\u001b[33mrechercheZenodo/Zenodo_recherche_publications.csv\u001b[39m\u001b[33m\"\u001b[39m, index=\u001b[38;5;28;01mFalse\u001b[39;00m)\n",
      "\u001b[31mNameError\u001b[39m: name 'df_publications' is not defined"
     ]
    }
   ],
   "source": [
    "df_publications.to_csv(\"rechercheZenodo/Zenodo_recherche_publications.csv\", index=False)"
   ]
  }
 ],
 "metadata": {
  "kernelspec": {
   "display_name": "Python 3",
   "language": "python",
   "name": "python3"
  },
  "language_info": {
   "codemirror_mode": {
    "name": "ipython",
    "version": 3
   },
   "file_extension": ".py",
   "mimetype": "text/x-python",
   "name": "python",
   "nbconvert_exporter": "python",
   "pygments_lexer": "ipython3",
   "version": "3.12.1"
  }
 },
 "nbformat": 4,
 "nbformat_minor": 5
}
