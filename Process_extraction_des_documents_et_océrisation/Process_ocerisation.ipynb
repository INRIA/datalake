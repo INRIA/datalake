{
 "cells": [
  {
   "cell_type": "markdown",
   "id": "f4c372c9-8fe2-4b16-bd7d-1023d5a53330",
   "metadata": {},
   "source": [
    "# Etape 1: Export des fichiers\n",
    "\n",
    "**Fonctionnalités principales :**\n",
    "\n",
    "**Interrogation et Téléchargement**\n",
    "- Interroge l’API HAL pour les documents de la collection INRIA-RRRT.\n",
    "- Récupère les métadonnées (ID HAL, titre, date, nombre de pages annoncées…).\n",
    "- Récupère les liens vers les PDF associés.\n",
    "- Télécharge les fichiers PDF dans le dossier ./output/liste_pdf_rrt/{année}/.\n",
    "- Évite les doublons (si le fichier est déjà téléchargé, il est ignoré).\n",
    "- Crée un CSV de résumé (telechargements_par_annee.csv) avec le nombre de fichiers par année.\n",
    "\n",
    "**Vérification des pages PDF**\n",
    "- Compare le nombre de pages indiqué dans page_s (API HAL) avec le nombre réel de pages du PDF.\n",
    "- Ajoute une colonne pages_match (True/False) au DataFrame.\n",
    "- Crée un fichier CSV de vérification verifications_pages.csv.\n",
    "\n",
    "**Gestion des divergences**\n",
    "-Si un PDF a un nombre de pages différent de celui annoncé :\n",
    "-Il est copié dans un dossier output/divergences_pages/{année}/.\n",
    "\n",
    "**Rapport interactif**\n",
    "- Génère un rapport HTML moderne :\n",
    "- Tableau stylisé\n",
    "- Codes couleurs \n",
    "- Statistiques (nombre total, divergences, taux de correspondance)\n",
    "- Génère un rapport PDF identique (version imprimable)"
   ]
  },
  {
   "cell_type": "code",
   "execution_count": 1,
   "id": "725f1e90-4026-434b-804d-4405de74fc25",
   "metadata": {},
   "outputs": [],
   "source": [
    "# A installer\n",
    "#pip install pandas tqdm weasyprint jinja2 PyPDF2 pymupdf PyMuPDF "
   ]
  },
  {
   "cell_type": "markdown",
   "id": "1fb7670a-3ffe-4ad1-886b-4f30cec79f37",
   "metadata": {},
   "source": [
    "## 📘Script de récupération des notices HAL et téléchargement des fichiers PDF associés."
   ]
  },
  {
   "cell_type": "code",
   "execution_count": 16,
   "id": "f773f890-0619-4a5f-aacf-9b42983e63d6",
   "metadata": {},
   "outputs": [
    {
     "name": "stdout",
     "output_type": "stream",
     "text": [
      "Téléchargement des fichiers pour l'année 2006...\n"
     ]
    },
    {
     "name": "stderr",
     "output_type": "stream",
     "text": [
      "Année 2006: 100%|██████████| 355/355 [00:43<00:00,  8.09it/s]\n"
     ]
    },
    {
     "name": "stdout",
     "output_type": "stream",
     "text": [
      "Téléchargement des fichiers pour l'année 2014...\n"
     ]
    },
    {
     "name": "stderr",
     "output_type": "stream",
     "text": [
      "Année 2014: 100%|██████████| 198/198 [00:31<00:00,  6.31it/s]\n"
     ]
    },
    {
     "name": "stdout",
     "output_type": "stream",
     "text": [
      "Téléchargement des fichiers pour l'année 2012...\n"
     ]
    },
    {
     "name": "stderr",
     "output_type": "stream",
     "text": [
      "Année 2012: 100%|██████████| 294/294 [00:55<00:00,  5.29it/s]\n"
     ]
    },
    {
     "name": "stdout",
     "output_type": "stream",
     "text": [
      "Téléchargement des fichiers pour l'année 2013...\n"
     ]
    },
    {
     "name": "stderr",
     "output_type": "stream",
     "text": [
      "Année 2013: 100%|██████████| 216/216 [00:34<00:00,  6.35it/s]\n"
     ]
    },
    {
     "name": "stdout",
     "output_type": "stream",
     "text": [
      "Téléchargement des fichiers pour l'année 2011...\n"
     ]
    },
    {
     "name": "stderr",
     "output_type": "stream",
     "text": [
      "Année 2011: 100%|██████████| 303/303 [00:39<00:00,  7.66it/s]\n"
     ]
    },
    {
     "name": "stdout",
     "output_type": "stream",
     "text": [
      "Téléchargement des fichiers pour l'année 2015...\n"
     ]
    },
    {
     "name": "stderr",
     "output_type": "stream",
     "text": [
      "Année 2015: 100%|██████████| 167/167 [00:50<00:00,  3.31it/s]\n"
     ]
    },
    {
     "name": "stdout",
     "output_type": "stream",
     "text": [
      "Téléchargement des fichiers pour l'année 2005...\n"
     ]
    },
    {
     "name": "stderr",
     "output_type": "stream",
     "text": [
      "Année 2005: 100%|██████████| 292/292 [00:33<00:00,  8.82it/s]\n"
     ]
    },
    {
     "name": "stdout",
     "output_type": "stream",
     "text": [
      "Téléchargement des fichiers pour l'année 2003...\n"
     ]
    },
    {
     "name": "stderr",
     "output_type": "stream",
     "text": [
      "Année 2003: 100%|██████████| 389/389 [00:43<00:00,  8.95it/s]\n"
     ]
    },
    {
     "name": "stdout",
     "output_type": "stream",
     "text": [
      "Téléchargement des fichiers pour l'année 2007...\n"
     ]
    },
    {
     "name": "stderr",
     "output_type": "stream",
     "text": [
      "Année 2007: 100%|██████████| 313/313 [00:45<00:00,  6.86it/s]\n"
     ]
    },
    {
     "name": "stdout",
     "output_type": "stream",
     "text": [
      "Téléchargement des fichiers pour l'année 2016...\n"
     ]
    },
    {
     "name": "stderr",
     "output_type": "stream",
     "text": [
      "Année 2016: 100%|██████████| 152/152 [00:34<00:00,  4.46it/s]\n"
     ]
    },
    {
     "name": "stdout",
     "output_type": "stream",
     "text": [
      "Téléchargement des fichiers pour l'année 2017...\n"
     ]
    },
    {
     "name": "stderr",
     "output_type": "stream",
     "text": [
      "Année 2017: 100%|██████████| 127/127 [00:50<00:00,  2.50it/s]\n"
     ]
    },
    {
     "name": "stdout",
     "output_type": "stream",
     "text": [
      "Téléchargement des fichiers pour l'année 2004...\n"
     ]
    },
    {
     "name": "stderr",
     "output_type": "stream",
     "text": [
      "Année 2004: 100%|██████████| 369/369 [00:37<00:00,  9.90it/s]\n"
     ]
    },
    {
     "name": "stdout",
     "output_type": "stream",
     "text": [
      "Téléchargement des fichiers pour l'année 2009...\n"
     ]
    },
    {
     "name": "stderr",
     "output_type": "stream",
     "text": [
      "Année 2009: 100%|██████████| 329/329 [00:49<00:00,  6.61it/s]\n"
     ]
    },
    {
     "name": "stdout",
     "output_type": "stream",
     "text": [
      "Téléchargement des fichiers pour l'année 2010...\n"
     ]
    },
    {
     "name": "stderr",
     "output_type": "stream",
     "text": [
      "Année 2010: 100%|██████████| 295/295 [00:40<00:00,  7.27it/s]\n"
     ]
    },
    {
     "name": "stdout",
     "output_type": "stream",
     "text": [
      "Téléchargement des fichiers pour l'année 2018...\n"
     ]
    },
    {
     "name": "stderr",
     "output_type": "stream",
     "text": [
      "Année 2018: 100%|██████████| 94/94 [00:21<00:00,  4.47it/s]\n"
     ]
    },
    {
     "name": "stdout",
     "output_type": "stream",
     "text": [
      "Téléchargement des fichiers pour l'année 2019...\n"
     ]
    },
    {
     "name": "stderr",
     "output_type": "stream",
     "text": [
      "Année 2019: 100%|██████████| 64/64 [00:15<00:00,  4.04it/s]\n"
     ]
    },
    {
     "name": "stdout",
     "output_type": "stream",
     "text": [
      "Téléchargement des fichiers pour l'année 2020...\n"
     ]
    },
    {
     "name": "stderr",
     "output_type": "stream",
     "text": [
      "Année 2020: 100%|██████████| 69/69 [00:18<00:00,  3.83it/s]\n"
     ]
    },
    {
     "name": "stdout",
     "output_type": "stream",
     "text": [
      "Téléchargement des fichiers pour l'année 2008...\n"
     ]
    },
    {
     "name": "stderr",
     "output_type": "stream",
     "text": [
      "Année 2008: 100%|██████████| 357/357 [00:44<00:00,  8.08it/s]\n"
     ]
    },
    {
     "name": "stdout",
     "output_type": "stream",
     "text": [
      "Téléchargement des fichiers pour l'année 2001...\n"
     ]
    },
    {
     "name": "stderr",
     "output_type": "stream",
     "text": [
      "Année 2001: 100%|██████████| 252/252 [00:26<00:00,  9.43it/s]\n"
     ]
    },
    {
     "name": "stdout",
     "output_type": "stream",
     "text": [
      "Téléchargement des fichiers pour l'année 1999...\n"
     ]
    },
    {
     "name": "stderr",
     "output_type": "stream",
     "text": [
      "Année 1999: 100%|██████████| 261/261 [00:33<00:00,  7.73it/s]\n"
     ]
    },
    {
     "name": "stdout",
     "output_type": "stream",
     "text": [
      "Téléchargement des fichiers pour l'année 2002...\n"
     ]
    },
    {
     "name": "stderr",
     "output_type": "stream",
     "text": [
      "Année 2002: 100%|██████████| 357/357 [00:47<00:00,  7.57it/s]\n"
     ]
    },
    {
     "name": "stdout",
     "output_type": "stream",
     "text": [
      "Téléchargement des fichiers pour l'année 2000...\n"
     ]
    },
    {
     "name": "stderr",
     "output_type": "stream",
     "text": [
      "Année 2000: 100%|██████████| 252/252 [00:31<00:00,  8.12it/s]\n"
     ]
    },
    {
     "name": "stdout",
     "output_type": "stream",
     "text": [
      "Téléchargement des fichiers pour l'année 1997...\n"
     ]
    },
    {
     "name": "stderr",
     "output_type": "stream",
     "text": [
      "Année 1997: 100%|██████████| 261/261 [00:34<00:00,  7.61it/s]\n"
     ]
    },
    {
     "name": "stdout",
     "output_type": "stream",
     "text": [
      "Téléchargement des fichiers pour l'année 1998...\n"
     ]
    },
    {
     "name": "stderr",
     "output_type": "stream",
     "text": [
      "Année 1998: 100%|██████████| 276/276 [00:35<00:00,  7.77it/s]\n"
     ]
    },
    {
     "name": "stdout",
     "output_type": "stream",
     "text": [
      "Téléchargement des fichiers pour l'année 1996...\n"
     ]
    },
    {
     "name": "stderr",
     "output_type": "stream",
     "text": [
      "Année 1996: 100%|██████████| 316/316 [00:38<00:00,  8.12it/s]\n"
     ]
    },
    {
     "name": "stdout",
     "output_type": "stream",
     "text": [
      "Téléchargement des fichiers pour l'année 2021...\n"
     ]
    },
    {
     "name": "stderr",
     "output_type": "stream",
     "text": [
      "Année 2021: 100%|██████████| 58/58 [00:17<00:00,  3.24it/s]\n"
     ]
    },
    {
     "name": "stdout",
     "output_type": "stream",
     "text": [
      "Téléchargement des fichiers pour l'année 2022...\n"
     ]
    },
    {
     "name": "stderr",
     "output_type": "stream",
     "text": [
      "Année 2022: 100%|██████████| 51/51 [00:23<00:00,  2.18it/s]\n"
     ]
    },
    {
     "name": "stdout",
     "output_type": "stream",
     "text": [
      "Téléchargement des fichiers pour l'année 2023...\n"
     ]
    },
    {
     "name": "stderr",
     "output_type": "stream",
     "text": [
      "Année 2023: 100%|██████████| 38/38 [00:10<00:00,  3.65it/s]\n"
     ]
    },
    {
     "name": "stdout",
     "output_type": "stream",
     "text": [
      "Téléchargement des fichiers pour l'année 2024...\n"
     ]
    },
    {
     "name": "stderr",
     "output_type": "stream",
     "text": [
      "Année 2024: 100%|██████████| 32/32 [00:09<00:00,  3.27it/s]\n"
     ]
    },
    {
     "name": "stdout",
     "output_type": "stream",
     "text": [
      "Téléchargement des fichiers pour l'année 1993...\n"
     ]
    },
    {
     "name": "stderr",
     "output_type": "stream",
     "text": [
      "Année 1993: 100%|██████████| 332/332 [00:52<00:00,  6.37it/s]\n"
     ]
    },
    {
     "name": "stdout",
     "output_type": "stream",
     "text": [
      "Téléchargement des fichiers pour l'année 2025...\n"
     ]
    },
    {
     "name": "stderr",
     "output_type": "stream",
     "text": [
      "Année 2025: 100%|██████████| 25/25 [00:04<00:00,  5.30it/s]\n"
     ]
    },
    {
     "name": "stdout",
     "output_type": "stream",
     "text": [
      "Téléchargement des fichiers pour l'année 1995...\n"
     ]
    },
    {
     "name": "stderr",
     "output_type": "stream",
     "text": [
      "Année 1995: 100%|██████████| 301/301 [00:35<00:00,  8.46it/s]\n"
     ]
    },
    {
     "name": "stdout",
     "output_type": "stream",
     "text": [
      "Téléchargement des fichiers pour l'année 1994...\n"
     ]
    },
    {
     "name": "stderr",
     "output_type": "stream",
     "text": [
      "Année 1994: 100%|██████████| 294/294 [00:42<00:00,  6.85it/s]\n"
     ]
    },
    {
     "name": "stdout",
     "output_type": "stream",
     "text": [
      "Téléchargement des fichiers pour l'année 1992...\n"
     ]
    },
    {
     "name": "stderr",
     "output_type": "stream",
     "text": [
      "Année 1992: 100%|██████████| 267/267 [00:50<00:00,  5.26it/s]\n"
     ]
    },
    {
     "name": "stdout",
     "output_type": "stream",
     "text": [
      "Téléchargement des fichiers pour l'année 1991...\n"
     ]
    },
    {
     "name": "stderr",
     "output_type": "stream",
     "text": [
      "Année 1991: 100%|██████████| 223/223 [00:44<00:00,  5.07it/s]\n"
     ]
    },
    {
     "name": "stdout",
     "output_type": "stream",
     "text": [
      "Téléchargement des fichiers pour l'année 1990...\n"
     ]
    },
    {
     "name": "stderr",
     "output_type": "stream",
     "text": [
      "Année 1990: 100%|██████████| 218/218 [00:40<00:00,  5.42it/s]\n"
     ]
    },
    {
     "name": "stdout",
     "output_type": "stream",
     "text": [
      "Téléchargement des fichiers pour l'année 1989...\n"
     ]
    },
    {
     "name": "stderr",
     "output_type": "stream",
     "text": [
      "Année 1989: 100%|██████████| 202/202 [00:38<00:00,  5.18it/s]\n"
     ]
    },
    {
     "name": "stdout",
     "output_type": "stream",
     "text": [
      "Téléchargement des fichiers pour l'année 1988...\n"
     ]
    },
    {
     "name": "stderr",
     "output_type": "stream",
     "text": [
      "Année 1988: 100%|██████████| 191/191 [00:40<00:00,  4.66it/s]\n"
     ]
    },
    {
     "name": "stdout",
     "output_type": "stream",
     "text": [
      "Téléchargement des fichiers pour l'année 1987...\n"
     ]
    },
    {
     "name": "stderr",
     "output_type": "stream",
     "text": [
      "Année 1987: 100%|██████████| 198/198 [00:37<00:00,  5.30it/s]\n"
     ]
    },
    {
     "name": "stdout",
     "output_type": "stream",
     "text": [
      "Téléchargement des fichiers pour l'année 1986...\n"
     ]
    },
    {
     "name": "stderr",
     "output_type": "stream",
     "text": [
      "Année 1986: 100%|██████████| 138/138 [00:29<00:00,  4.75it/s]\n"
     ]
    },
    {
     "name": "stdout",
     "output_type": "stream",
     "text": [
      "Téléchargement des fichiers pour l'année 1985...\n"
     ]
    },
    {
     "name": "stderr",
     "output_type": "stream",
     "text": [
      "Année 1985: 100%|██████████| 140/140 [00:27<00:00,  5.08it/s]\n"
     ]
    },
    {
     "name": "stdout",
     "output_type": "stream",
     "text": [
      "Téléchargement des fichiers pour l'année 1984...\n"
     ]
    },
    {
     "name": "stderr",
     "output_type": "stream",
     "text": [
      "Année 1984: 100%|██████████| 101/101 [00:21<00:00,  4.70it/s]\n"
     ]
    },
    {
     "name": "stdout",
     "output_type": "stream",
     "text": [
      "Téléchargement des fichiers pour l'année 1983...\n"
     ]
    },
    {
     "name": "stderr",
     "output_type": "stream",
     "text": [
      "Année 1983: 100%|██████████| 92/92 [00:20<00:00,  4.45it/s]\n"
     ]
    },
    {
     "name": "stdout",
     "output_type": "stream",
     "text": [
      "Téléchargement des fichiers pour l'année 1982...\n"
     ]
    },
    {
     "name": "stderr",
     "output_type": "stream",
     "text": [
      "Année 1982: 100%|██████████| 85/85 [00:26<00:00,  3.15it/s]\n"
     ]
    },
    {
     "name": "stdout",
     "output_type": "stream",
     "text": [
      "Téléchargement des fichiers pour l'année 1981...\n"
     ]
    },
    {
     "name": "stderr",
     "output_type": "stream",
     "text": [
      "Année 1981: 100%|██████████| 65/65 [00:14<00:00,  4.47it/s]\n"
     ]
    },
    {
     "name": "stdout",
     "output_type": "stream",
     "text": [
      "Téléchargement des fichiers pour l'année 1980...\n"
     ]
    },
    {
     "name": "stderr",
     "output_type": "stream",
     "text": [
      "Année 1980: 100%|██████████| 50/50 [00:08<00:00,  5.68it/s]\n"
     ]
    },
    {
     "name": "stdout",
     "output_type": "stream",
     "text": [
      "✅ Vérification terminée. CSV enregistré.\n",
      "📄 Pour générer un rapport HTML + PDF, exécute le bloc de génération ci-dessous.\n"
     ]
    }
   ],
   "source": [
    "import os\n",
    "import shutil\n",
    "import re\n",
    "import time\n",
    "import logging\n",
    "import requests\n",
    "import xml.etree.ElementTree as ET\n",
    "import pandas as pd\n",
    "from datetime import datetime\n",
    "from tqdm import tqdm\n",
    "from concurrent.futures import ThreadPoolExecutor\n",
    "from PyPDF2 import PdfReader\n",
    "\n",
    "# Config\n",
    "BASE_URL = \"https://api.archives-ouvertes.fr/search\"\n",
    "QUERY = \"collCode_s:INRIA-RRRT\"\n",
    "NAMESPACES = {\"tei\": \"http://www.tei-c.org/ns/1.0\"}\n",
    "ROWS_PER_PAGE = 1\n",
    "OUTPUT_DIR = \"output\"\n",
    "PDF_DIR = os.path.join(OUTPUT_DIR, \"liste_pdf_rrt\")\n",
    "LOG_FILE = os.path.join(OUTPUT_DIR, \"log_recupere_pdf.txt\")\n",
    "CSV_RESUME = os.path.join(OUTPUT_DIR, \"telechargements_par_annee.csv\")\n",
    "CSV_VERIF = os.path.join(OUTPUT_DIR, \"verifications_pages.csv\")\n",
    "DIVERGENCES_DIR = os.path.join(OUTPUT_DIR, \"divergences_pages\")\n",
    "\n",
    "os.makedirs(PDF_DIR, exist_ok=True)\n",
    "os.makedirs(OUTPUT_DIR, exist_ok=True)\n",
    "os.makedirs(DIVERGENCES_DIR, exist_ok=True)\n",
    "\n",
    "logging.basicConfig(\n",
    "    filename=LOG_FILE,\n",
    "    level=logging.INFO,\n",
    "    format='%(asctime)s - %(levelname)s - %(message)s',\n",
    "    filemode='w'\n",
    ")\n",
    "\n",
    "\n",
    "def clean_filename(filename):\n",
    "    return filename.split('?')[0]\n",
    "\n",
    "\n",
    "def is_valid_filename(filename):\n",
    "    return bool(re.match(r'.*\\.[a-zA-Z]{3}$', filename))\n",
    "\n",
    "\n",
    "def extract_year(date_str):\n",
    "    if not date_str:\n",
    "        return \"inconnu\"\n",
    "    match = re.match(r\"(\\d{4})\", date_str)\n",
    "    return match.group(1) if match else \"inconnu\"\n",
    "\n",
    "\n",
    "def fetch_records(cursor_mark):\n",
    "    params = {\n",
    "        \"q\": QUERY,\n",
    "        \"wt\": \"xml-tei\",\n",
    "        \"rows\": ROWS_PER_PAGE,\n",
    "        \"sort\": \"docid asc\",\n",
    "        \"fl\": \"docid,halId_s,title_s,uri_s,page_s\",\n",
    "        \"cursorMark\": cursor_mark\n",
    "    }\n",
    "    response = requests.get(BASE_URL, params=params)\n",
    "    response.raise_for_status()\n",
    "    return ET.fromstring(response.content)\n",
    "\n",
    "\n",
    "def process_record(data):\n",
    "    downloads = {}\n",
    "    halID_element = data.find('.//tei:idno[@type=\"halId\"]', NAMESPACES)\n",
    "    halID = halID_element.text if halID_element is not None else None\n",
    "    if not halID:\n",
    "        return downloads\n",
    "\n",
    "    refs = data.findall('.//tei:edition[@type=\"current\"]/tei:ref[@type=\"file\"][@n=\"1\"]', NAMESPACES)\n",
    "    publication_date_element = data.find('.//tei:editionStmt/tei:edition/tei:date[@type=\"whenProduced\"]', NAMESPACES)\n",
    "    year = extract_year(publication_date_element.text.strip()) if publication_date_element is not None else \"inconnu\"\n",
    "\n",
    "    page_element = data.find('.//tei:biblScope[@unit=\"page\"]', NAMESPACES)\n",
    "    pages_annoncees = page_element.text.strip() if page_element is not None else \"\"\n",
    "\n",
    "    for ref in refs:\n",
    "        target = ref.get('target')\n",
    "        if not target or not target.lower().endswith(\".pdf\"):\n",
    "            continue\n",
    "\n",
    "        file_name = clean_filename(os.path.basename(target))\n",
    "        file_name = file_name[:100] if len(file_name) > 100 else file_name\n",
    "        n = ref.get('n') or \"00\"\n",
    "        ref_type = ref.get('type')\n",
    "\n",
    "        folder = os.path.join(PDF_DIR, year)\n",
    "        os.makedirs(folder, exist_ok=True)\n",
    "\n",
    "        filename = f\"{halID}_{n}_{'main_' if ref_type == 'file' else ''}{file_name}\"\n",
    "        filepath = os.path.join(folder, filename)\n",
    "        if is_valid_filename(filepath):\n",
    "            downloads.setdefault(year, []).append((target, filepath, halID, n, file_name, year, pages_annoncees))\n",
    "\n",
    "    return downloads\n",
    "\n",
    "\n",
    "def download_file(args):\n",
    "    uri, path, halID, n, name, *_ = args\n",
    "    try:\n",
    "        if os.path.exists(path):\n",
    "            return True\n",
    "        response = requests.get(uri, timeout=10)\n",
    "        response.raise_for_status()\n",
    "        with open(path, 'wb') as f:\n",
    "            f.write(response.content)\n",
    "        logging.info(f\"Téléchargé: {halID}_{n}_{name}\")\n",
    "        return True\n",
    "    except Exception as e:\n",
    "        logging.error(f\"Erreur téléchargement {uri}: {e}\")\n",
    "        return False\n",
    "\n",
    "\n",
    "def count_pdf_pages(filepath):\n",
    "    try:\n",
    "        with open(filepath, \"rb\") as f:\n",
    "            reader = PdfReader(f)\n",
    "            return len(reader.pages)\n",
    "    except Exception as e:\n",
    "        logging.warning(f\"Erreur lecture PDF {filepath}: {e}\")\n",
    "        return None\n",
    "\n",
    "\n",
    "def verifier_pages(data):\n",
    "    results = []\n",
    "    for year, files in data.items():\n",
    "        for uri, path, halID, n, name, year, pages_annoncees in files:\n",
    "            pages_pdf = count_pdf_pages(path)\n",
    "            try:\n",
    "                pages_decl = int(pages_annoncees)\n",
    "            except:\n",
    "                pages_decl = None\n",
    "\n",
    "            match = (pages_pdf == pages_decl) if pages_decl is not None and pages_pdf is not None else None\n",
    "\n",
    "            results.append({\n",
    "                \"année\": year,\n",
    "                \"halID\": halID,\n",
    "                \"fichier\": os.path.basename(path),\n",
    "                \"pages_annoncees\": pages_decl,\n",
    "                \"pages_pdf\": pages_pdf,\n",
    "                \"pages_match\": match,\n",
    "                \"path\": path\n",
    "            })\n",
    "\n",
    "            if match is False:\n",
    "                divergence_dir = os.path.join(DIVERGENCES_DIR, year)\n",
    "                os.makedirs(divergence_dir, exist_ok=True)\n",
    "                shutil.copy(path, os.path.join(divergence_dir, os.path.basename(path)))\n",
    "\n",
    "    return pd.DataFrame(results)\n",
    "\n",
    "\n",
    "def main():\n",
    "    cursor_mark = \"*\"\n",
    "    previous_cursor = None\n",
    "    total_downloads = {}\n",
    "\n",
    "    # 1. Récupération des données\n",
    "    while cursor_mark != previous_cursor:\n",
    "        try:\n",
    "            data = fetch_records(cursor_mark)\n",
    "        except Exception as e:\n",
    "            logging.error(f\"Erreur API: {e}\")\n",
    "            break\n",
    "\n",
    "        previous_cursor = cursor_mark\n",
    "        cursor_mark = data.attrib.get(\"next\")\n",
    "        if not cursor_mark:\n",
    "            break\n",
    "\n",
    "        record_downloads = process_record(data)\n",
    "        for year, items in record_downloads.items():\n",
    "            total_downloads.setdefault(year, []).extend(items)\n",
    "\n",
    "        time.sleep(0.1)\n",
    "\n",
    "    # 2. Téléchargement\n",
    "    resume = {}\n",
    "    for year, files in total_downloads.items():\n",
    "        print(f\"Téléchargement des fichiers pour l'année {year}...\")\n",
    "        resume[year] = 0\n",
    "        with ThreadPoolExecutor(max_workers=5) as executor:\n",
    "            results = list(tqdm(executor.map(download_file, files), total=len(files), desc=f\"Année {year}\"))\n",
    "        resume[year] += sum(results)\n",
    "\n",
    "    df_resume = pd.DataFrame(list(resume.items()), columns=[\"Année\", \"Nombre_de_fichiers\"])\n",
    "    df_resume.sort_values(by=\"Année\", inplace=True)\n",
    "    df_resume.to_csv(CSV_RESUME, index=False)\n",
    "\n",
    "    # 3. Vérification\n",
    "    df_check = verifier_pages(total_downloads)\n",
    "    df_check.to_csv(CSV_VERIF, index=False)\n",
    "\n",
    "    print(\"✅ Vérification terminée. CSV enregistré.\")\n",
    "    print(\"📄 Pour générer un rapport HTML + PDF, exécute le bloc de génération ci-dessous.\")\n",
    "\n",
    "if __name__ == \"__main__\":\n",
    "    main()\n"
   ]
  },
  {
   "cell_type": "code",
   "execution_count": 31,
   "id": "7bb8bbb9-4481-48f6-b3bc-e0aec4a6e5c9",
   "metadata": {},
   "outputs": [
    {
     "name": "stdout",
     "output_type": "stream",
     "text": [
      "               halID                            fichier  pages_annoncees  \\\n",
      "0     inria-00098300  inria-00098300_1_main_RR-5986.pdf              NaN   \n",
      "1     inria-00096644  inria-00096644_1_main_RR-5981.pdf              NaN   \n",
      "2     inria-00101500  inria-00101500_1_main_RR-5987.pdf              NaN   \n",
      "3     inria-00102049  inria-00102049_1_main_RR-5988.pdf              NaN   \n",
      "4     inria-00102039  inria-00102039_1_main_RR-5989.pdf              NaN   \n",
      "...              ...                                ...              ...   \n",
      "9454  inria-00076556  inria-00076556_1_main_RR-0005.pdf              NaN   \n",
      "9455  inria-00076557  inria-00076557_1_main_RR-0004.pdf              NaN   \n",
      "9456  inria-00076558  inria-00076558_1_main_RR-0003.pdf              NaN   \n",
      "9457  inria-00076559  inria-00076559_1_main_RR-0002.pdf              NaN   \n",
      "9458  inria-00076560  inria-00076560_1_main_RR-0001.pdf              NaN   \n",
      "\n",
      "      pages_pdf  écart  \n",
      "0          15.0    NaN  \n",
      "1          34.0    NaN  \n",
      "2          23.0    NaN  \n",
      "3          15.0    NaN  \n",
      "4          36.0    NaN  \n",
      "...         ...    ...  \n",
      "9454       16.0    NaN  \n",
      "9455       41.0    NaN  \n",
      "9456       29.0    NaN  \n",
      "9457       73.0    NaN  \n",
      "9458       32.0    NaN  \n",
      "\n",
      "[9459 rows x 5 columns]\n"
     ]
    }
   ],
   "source": [
    "df_check = pd.read_csv(CSV_VERIF)\n",
    "df_check['écart'] = df_check['pages_pdf'] - df_check['pages_annoncees']\n",
    "print(df_check[['halID', 'fichier', 'pages_annoncees', 'pages_pdf', 'écart']].sort_values(by='écart', key=lambda col: col.abs(), ascending=False))\n"
   ]
  },
  {
   "cell_type": "markdown",
   "id": "d1cabb83-40bd-48c6-8fed-1334a1d1199e",
   "metadata": {},
   "source": [
    "# Etape 2: Tris des fichiers pdf océrisés et non océrisés\n",
    "\n",
    "- Parcourt un dossier nommé liste_pdf_1980_1990 pour repérer tous les fichiers PDF.\n",
    "- Crée deux dossiers de sortie s’ils n’existent pas :\n",
    "- RRT_OCR : pour les fichiers convertis en texte (OCR).\n",
    "- RRT_SANS_OCR : pour les fichiers PDF convertis en images (non OCRisés).\n",
    "- Analyse chaque PDF pour déterminer s’il contient du texte (OCR) ou s’il est uniquement composé d’images.\n",
    "- Classe les fichiers selon leur type : texte ou image."
   ]
  },
  {
   "cell_type": "markdown",
   "id": "11e42734-901d-4278-af3a-cdabb345fb68",
   "metadata": {},
   "source": [
    "## 📘 Script de tris des fichiers "
   ]
  },
  {
   "cell_type": "code",
   "execution_count": 37,
   "id": "4ff62269-5ce4-4cbe-90c5-75fe061d4555",
   "metadata": {},
   "outputs": [
    {
     "name": "stderr",
     "output_type": "stream",
     "text": [
      "Année 1980: 100%|\u001b[36m█████████████████████████████████████████\u001b[0m| 50/50 [00:00<00:00, 53.50it/s]\u001b[0m\n",
      "Année 1981: 100%|\u001b[36m█████████████████████████████████████████\u001b[0m| 65/65 [00:01<00:00, 47.67it/s]\u001b[0m\n",
      "Année 1982: 100%|\u001b[36m█████████████████████████████████████████\u001b[0m| 85/85 [00:55<00:00,  1.54it/s]\u001b[0m\n",
      "Année 1983: 100%|\u001b[36m█████████████████████████████████████████\u001b[0m| 92/92 [00:01<00:00, 48.35it/s]\u001b[0m\n",
      "Année 1984: 100%|\u001b[36m███████████████████████████████████████\u001b[0m| 101/101 [00:02<00:00, 46.39it/s]\u001b[0m\n",
      "Année 1985: 100%|\u001b[36m███████████████████████████████████████\u001b[0m| 140/140 [00:05<00:00, 23.40it/s]\u001b[0m\n",
      "Année 1986: 100%|\u001b[36m███████████████████████████████████████\u001b[0m| 138/138 [00:02<00:00, 55.59it/s]\u001b[0m\n",
      "Année 1987: 100%|\u001b[36m███████████████████████████████████████\u001b[0m| 198/198 [00:03<00:00, 54.72it/s]\u001b[0m\n",
      "Année 1988: 100%|\u001b[36m███████████████████████████████████████\u001b[0m| 191/191 [00:25<00:00,  7.39it/s]\u001b[0m\n",
      "Année 1989: 100%|\u001b[36m███████████████████████████████████████\u001b[0m| 202/202 [00:07<00:00, 28.14it/s]\u001b[0m\n",
      "Année 1990: 100%|\u001b[36m███████████████████████████████████████\u001b[0m| 218/218 [00:13<00:00, 16.39it/s]\u001b[0m\n",
      "Année 1991: 100%|\u001b[36m███████████████████████████████████████\u001b[0m| 223/223 [00:07<00:00, 29.09it/s]\u001b[0m\n",
      "Année 1992: 100%|\u001b[36m███████████████████████████████████████\u001b[0m| 267/267 [00:12<00:00, 22.19it/s]\u001b[0m\n",
      "Année 1993: 100%|\u001b[36m███████████████████████████████████████\u001b[0m| 332/332 [00:20<00:00, 16.05it/s]\u001b[0m\n",
      "Année 1994: 100%|\u001b[36m███████████████████████████████████████\u001b[0m| 294/294 [00:20<00:00, 14.06it/s]\u001b[0m\n",
      "Année 1995: 100%|\u001b[36m███████████████████████████████████████\u001b[0m| 301/301 [00:13<00:00, 22.82it/s]\u001b[0m\n",
      "Année 1996: 100%|\u001b[36m███████████████████████████████████████\u001b[0m| 316/316 [00:14<00:00, 21.45it/s]\u001b[0m\n",
      "Année 1997: 100%|\u001b[36m███████████████████████████████████████\u001b[0m| 261/261 [00:10<00:00, 25.82it/s]\u001b[0m\n",
      "Année 1998: 100%|\u001b[36m███████████████████████████████████████\u001b[0m| 276/276 [00:10<00:00, 26.03it/s]\u001b[0m\n",
      "Année 1999: 100%|\u001b[36m███████████████████████████████████████\u001b[0m| 261/261 [00:18<00:00, 13.96it/s]\u001b[0m\n",
      "Année 2000: 100%|\u001b[36m███████████████████████████████████████\u001b[0m| 252/252 [00:09<00:00, 26.04it/s]\u001b[0m\n",
      "Année 2001: 100%|\u001b[36m███████████████████████████████████████\u001b[0m| 252/252 [00:09<00:00, 27.51it/s]\u001b[0m\n",
      "Année 2002: 100%|\u001b[36m███████████████████████████████████████\u001b[0m| 357/357 [00:15<00:00, 23.04it/s]\u001b[0m\n",
      "Année 2003: 100%|\u001b[36m███████████████████████████████████████\u001b[0m| 389/389 [00:15<00:00, 25.34it/s]\u001b[0m\n",
      "Année 2004: 100%|\u001b[36m███████████████████████████████████████\u001b[0m| 369/369 [00:20<00:00, 17.93it/s]\u001b[0m\n",
      "Année 2005:  93%|\u001b[36m████████████████████████████████████▏  \u001b[0m| 271/292 [00:28<00:00, 30.35it/s]\u001b[0m"
     ]
    },
    {
     "name": "stdout",
     "output_type": "stream",
     "text": [
      "MuPDF error: syntax error: expected object number\n",
      "\n",
      "MuPDF error: format error: object is not a stream\n",
      "\n"
     ]
    },
    {
     "name": "stderr",
     "output_type": "stream",
     "text": [
      "Année 2005: 100%|\u001b[36m███████████████████████████████████████\u001b[0m| 292/292 [00:28<00:00, 10.07it/s]\u001b[0m\n",
      "Année 2006:  43%|\u001b[36m████████████████▊                      \u001b[0m| 153/355 [00:11<00:29,  6.89it/s]\u001b[0m"
     ]
    },
    {
     "name": "stdout",
     "output_type": "stream",
     "text": [
      "MuPDF error: syntax error: expected object number\n",
      "\n",
      "MuPDF error: format error: object is not a stream\n",
      "\n",
      "MuPDF error: format error: object is not a stream\n",
      "\n",
      "MuPDF error: format error: object is not a stream\n",
      "\n"
     ]
    },
    {
     "name": "stderr",
     "output_type": "stream",
     "text": [
      "Année 2006:  52%|\u001b[36m████████████████████▏                  \u001b[0m| 184/355 [00:12<00:06, 24.99it/s]\u001b[0m"
     ]
    },
    {
     "name": "stdout",
     "output_type": "stream",
     "text": [
      "MuPDF error: syntax error: syntax error in content stream\n",
      "\n"
     ]
    },
    {
     "name": "stderr",
     "output_type": "stream",
     "text": [
      "Année 2006:  65%|\u001b[36m█████████████████████████▍             \u001b[0m| 232/355 [00:14<00:04, 29.73it/s]\u001b[0m"
     ]
    },
    {
     "name": "stdout",
     "output_type": "stream",
     "text": [
      "MuPDF error: library error: FT_New_Memory_Face(HJOLWH+SymbolMT): unknown file format\n",
      "\n"
     ]
    },
    {
     "name": "stderr",
     "output_type": "stream",
     "text": [
      "Année 2006: 100%|\u001b[36m███████████████████████████████████████\u001b[0m| 355/355 [00:18<00:00, 19.37it/s]\u001b[0m\n",
      "Année 2007: 100%|\u001b[36m███████████████████████████████████████\u001b[0m| 313/313 [00:10<00:00, 29.37it/s]\u001b[0m\n",
      "Année 2008:   9%|\u001b[36m███▌                                    \u001b[0m| 32/357 [00:01<00:10, 31.36it/s]\u001b[0m"
     ]
    },
    {
     "name": "stdout",
     "output_type": "stream",
     "text": [
      "MuPDF error: syntax error: cannot find XObject resource 'R169'\n",
      "\n"
     ]
    },
    {
     "name": "stderr",
     "output_type": "stream",
     "text": [
      "Année 2008: 100%|\u001b[36m███████████████████████████████████████\u001b[0m| 357/357 [00:12<00:00, 28.98it/s]\u001b[0m\n",
      "Année 2009: 100%|\u001b[36m███████████████████████████████████████\u001b[0m| 329/329 [00:11<00:00, 28.95it/s]\u001b[0m\n",
      "Année 2010: 100%|\u001b[36m███████████████████████████████████████\u001b[0m| 295/295 [00:11<00:00, 26.48it/s]\u001b[0m\n",
      "Année 2011:  62%|\u001b[36m████████████████████████▏              \u001b[0m| 188/303 [00:06<00:04, 25.16it/s]\u001b[0m"
     ]
    },
    {
     "name": "stdout",
     "output_type": "stream",
     "text": [
      "MuPDF error: syntax error: cannot find XObject resource 'R313'\n",
      "\n",
      "MuPDF error: syntax error: cannot find XObject resource 'R313'\n",
      "\n"
     ]
    },
    {
     "name": "stderr",
     "output_type": "stream",
     "text": [
      "Année 2011: 100%|\u001b[36m███████████████████████████████████████\u001b[0m| 303/303 [00:10<00:00, 27.74it/s]\u001b[0m\n",
      "Année 2012: 100%|\u001b[36m███████████████████████████████████████\u001b[0m| 294/294 [00:11<00:00, 25.89it/s]\u001b[0m\n",
      "Année 2013: 100%|\u001b[36m███████████████████████████████████████\u001b[0m| 216/216 [00:08<00:00, 25.97it/s]\u001b[0m\n",
      "Année 2014: 100%|\u001b[36m███████████████████████████████████████\u001b[0m| 198/198 [00:07<00:00, 27.98it/s]\u001b[0m\n",
      "Année 2015: 100%|\u001b[36m███████████████████████████████████████\u001b[0m| 167/167 [00:07<00:00, 20.92it/s]\u001b[0m\n",
      "Année 2016: 100%|\u001b[36m███████████████████████████████████████\u001b[0m| 152/152 [00:07<00:00, 19.79it/s]\u001b[0m\n",
      "Année 2017: 100%|\u001b[36m███████████████████████████████████████\u001b[0m| 126/126 [00:06<00:00, 19.77it/s]\u001b[0m\n",
      "Année 2018: 100%|\u001b[36m█████████████████████████████████████████\u001b[0m| 94/94 [00:04<00:00, 23.39it/s]\u001b[0m\n",
      "Année 2019: 100%|\u001b[36m█████████████████████████████████████████\u001b[0m| 64/64 [00:03<00:00, 20.13it/s]\u001b[0m\n",
      "Année 2020: 100%|\u001b[36m█████████████████████████████████████████\u001b[0m| 69/69 [00:03<00:00, 21.43it/s]\u001b[0m\n",
      "Année 2021: 100%|\u001b[36m█████████████████████████████████████████\u001b[0m| 58/58 [00:04<00:00, 14.14it/s]\u001b[0m\n",
      "Année 2022: 100%|\u001b[36m█████████████████████████████████████████\u001b[0m| 51/51 [00:03<00:00, 14.89it/s]\u001b[0m\n",
      "Année 2023: 100%|\u001b[36m█████████████████████████████████████████\u001b[0m| 38/38 [00:01<00:00, 23.21it/s]\u001b[0m\n",
      "Année 2024: 100%|\u001b[36m█████████████████████████████████████████\u001b[0m| 30/30 [00:01<00:00, 19.52it/s]\u001b[0m\n",
      "Année 2025: 100%|\u001b[36m█████████████████████████████████████████\u001b[0m| 25/25 [00:01<00:00, 22.94it/s]\u001b[0m\n"
     ]
    },
    {
     "data": {
      "image/png": "[encoded data removed]",
      "text/plain": [
       "<Figure size 1200x600 with 1 Axes>"
      ]
     },
     "metadata": {},
     "output_type": "display_data"
    },
    {
     "name": "stdout",
     "output_type": "stream",
     "text": [
      "\n",
      "📊  Résumé global :\n",
      "Statut Année  ERREUR  OCR  SANS_OCR\n",
      "0       1980       0    0        50\n",
      "1       1981       0    0        65\n",
      "2       1982       0    0        85\n",
      "3       1983       0    0        92\n",
      "4       1984       0    0       101\n",
      "5       1985       0    0       140\n",
      "6       1986       0    0       138\n",
      "7       1987       0    0       198\n",
      "8       1988       0    2       189\n",
      "9       1989       0    7       195\n",
      "10      1990       0   16       202\n",
      "11      1991       1   17       205\n",
      "12      1992       0   65       202\n",
      "13      1993       0  151       181\n",
      "14      1994       0  227        67\n",
      "15      1995       0  258        43\n",
      "16      1996       0  298        18\n",
      "17      1997       0  250        11\n",
      "18      1998       0  264        12\n",
      "19      1999       0  252         9\n",
      "20      2000       0  252         0\n",
      "21      2001       0  248         4\n",
      "22      2002       0  353         4\n",
      "23      2003       0  387         2\n",
      "24      2004       0  367         2\n",
      "25      2005       0  290         2\n",
      "26      2006       0  350         5\n",
      "27      2007       0  313         0\n",
      "28      2008       0  356         1\n",
      "29      2009       0  328         1\n",
      "30      2010       0  295         0\n",
      "31      2011       0  303         0\n",
      "32      2012       0  294         0\n",
      "33      2013       0  216         0\n",
      "34      2014       0  198         0\n",
      "35      2015       0  167         0\n",
      "36      2016       0  152         0\n",
      "37      2017       0  126         0\n",
      "38      2018       0   94         0\n",
      "39      2019       0   64         0\n",
      "40      2020       0   69         0\n",
      "41      2021       0   58         0\n",
      "42      2022       0   51         0\n",
      "43      2023       0   38         0\n",
      "44      2024       0   30         0\n",
      "45      2025       0   25         0\n",
      "\n",
      "📝  Rapports enregistrés dans : output\\rapports\n"
     ]
    }
   ],
   "source": [
    "#test 2 \n",
    "\n",
    "\"\"\"\n",
    "Tri des PDF RRT : OCR partiel vs. pages non‑OCR\n",
    "------------------------------------------------\n",
    "• Si au moins 5 pages sont océrisées         ➜  RRT_OCR\n",
    "• Sinon (moins de 5 pages océrisées)         ➜  RRT_SANS_OCR\n",
    "• Les pages blanches sont ignorées\n",
    "\"\"\"\n",
    "\n",
    "import os\n",
    "import csv\n",
    "import subprocess\n",
    "from pathlib import Path\n",
    "from shutil import copyfile\n",
    "\n",
    "import fitz           # PyMuPDF\n",
    "from PyPDF2 import PdfReader\n",
    "from tqdm import tqdm\n",
    "import pandas as pd\n",
    "import matplotlib.pyplot as plt\n",
    "\n",
    "# ---------------------------------------------------------------------------\n",
    "# Paramètres de répertoire\n",
    "# ---------------------------------------------------------------------------\n",
    "BASE_DIR           = Path(\"output\")\n",
    "DOSSIER_SOURCE     = BASE_DIR / \"liste_pdf_rrt\"\n",
    "DOSSIER_OCR        = BASE_DIR / \"RRT_OCR\"\n",
    "DOSSIER_SANS_OCR   = BASE_DIR / \"RRT_SANS_OCR\"\n",
    "DOSSIER_RAPPORTS   = BASE_DIR / \"rapports\"\n",
    "DOSSIER_TEMP       = BASE_DIR / \"REPARATION_TEMP\"\n",
    "\n",
    "for d in (DOSSIER_OCR, DOSSIER_SANS_OCR, DOSSIER_RAPPORTS, DOSSIER_TEMP):\n",
    "    d.mkdir(parents=True, exist_ok=True)\n",
    "\n",
    "# ---------------------------------------------------------------------------\n",
    "# Fonctions utilitaires\n",
    "# ---------------------------------------------------------------------------\n",
    "def est_pdf_valide(pdf_path: Path) -> bool:\n",
    "    \"\"\"Teste l’ouverture du PDF et l’accès à la première page.\"\"\"\n",
    "    try:\n",
    "        PdfReader(pdf_path).pages[0]\n",
    "        return True\n",
    "    except Exception:\n",
    "        return False\n",
    "\n",
    "def reparer_pdf(src: Path, dst: Path) -> bool:\n",
    "    \"\"\"Tente une reconstruction Ghostscript ; renvoie True si dst valide.\"\"\"\n",
    "    try:\n",
    "        subprocess.run(\n",
    "            [\n",
    "                \"gs\",\n",
    "                \"-sDEVICE=pdfwrite\",\n",
    "                \"-dPDFSETTINGS=/prepress\",\n",
    "                \"-dNOPAUSE\", \"-dBATCH\", \"-dSAFER\",\n",
    "                f\"-sOutputFile={dst}\",\n",
    "                str(src)\n",
    "            ],\n",
    "            capture_output=True,\n",
    "            text=True,\n",
    "            check=False\n",
    "        )\n",
    "        return est_pdf_valide(dst)\n",
    "    except Exception:\n",
    "        return False\n",
    "\n",
    "def est_page_blanche(page) -> bool:\n",
    "    \"\"\"Retourne True si la page est vide (ni texte ni image significative).\"\"\"\n",
    "    texte = page.get_text().strip()\n",
    "    images = page.get_images(full=True)\n",
    "    return not texte and len(images) == 0\n",
    "\n",
    "def pdf_ocerise_selon_regle(pdf_path: Path, seuil: int = 5) -> bool:\n",
    "    \"\"\"\n",
    "    Renvoie True si AU MOINS `seuil` pages non blanches contiennent du texte.\n",
    "    Les pages blanches sont ignorées dans le comptage.\n",
    "    \"\"\"\n",
    "    ocr_pages = 0\n",
    "    with fitz.open(pdf_path) as doc:\n",
    "        for page in doc:\n",
    "            if est_page_blanche(page):\n",
    "                continue\n",
    "            if page.get_text().strip():\n",
    "                ocr_pages += 1\n",
    "            if ocr_pages >= seuil:\n",
    "                return True\n",
    "    return False\n",
    "\n",
    "# ---------------------------------------------------------------------------\n",
    "# Parcours des années\n",
    "# ---------------------------------------------------------------------------\n",
    "annees    = sorted(p.name for p in DOSSIER_SOURCE.iterdir() if p.is_dir())\n",
    "all_rows  = []\n",
    "\n",
    "for annee in annees:\n",
    "    src_dir          = DOSSIER_SOURCE / annee\n",
    "    pdfs             = list(src_dir.glob(\"*.pdf\"))\n",
    "    ocr_dir          = DOSSIER_OCR / annee\n",
    "    sans_ocr_dir     = DOSSIER_SANS_OCR / annee\n",
    "    ocr_dir.mkdir(parents=True, exist_ok=True)\n",
    "    sans_ocr_dir.mkdir(parents=True, exist_ok=True)\n",
    "\n",
    "    for pdf in tqdm(pdfs, desc=f\"Année {annee}\", ncols=90, colour=\"cyan\"):\n",
    "        statut, erreur, repare = \"\", \"\", \"Non\"\n",
    "        try:\n",
    "            # ----------------------------------------------------------------\n",
    "            # 1) Validation / réparation éventuelle\n",
    "            # ----------------------------------------------------------------\n",
    "            cible = pdf\n",
    "            if not est_pdf_valide(pdf):\n",
    "                tentative = DOSSIER_TEMP / pdf.name\n",
    "                if reparer_pdf(pdf, tentative):\n",
    "                    cible, repare = tentative, \"Oui\"\n",
    "                else:\n",
    "                    raise ValueError(\"PDF corrompu (réparation impossible)\")\n",
    "\n",
    "            # ----------------------------------------------------------------\n",
    "            # 2) Vérification OCR selon la nouvelle règle\n",
    "            # ----------------------------------------------------------------\n",
    "            if pdf_ocerise_selon_regle(cible):\n",
    "                copyfile(pdf, ocr_dir / pdf.name)\n",
    "                statut = \"OCR\"\n",
    "            else:\n",
    "                copyfile(pdf, sans_ocr_dir / pdf.name)\n",
    "                statut = \"SANS_OCR\"\n",
    "\n",
    "        except Exception as e:\n",
    "            statut, erreur = \"ERREUR\", str(e)\n",
    "\n",
    "        # Trace pour le rapport\n",
    "        all_rows.append([annee, pdf.name, pdf.suffix.lower(), statut, repare, erreur])\n",
    "\n",
    "# ---------------------------------------------------------------------------\n",
    "# Rapports CSV + graphique\n",
    "# ---------------------------------------------------------------------------\n",
    "rapport_csv = DOSSIER_RAPPORTS / \"rapport.csv\"\n",
    "with rapport_csv.open(\"w\", newline=\"\", encoding=\"utf-8\") as f:\n",
    "    writer = csv.writer(f)\n",
    "    writer.writerow([\"Année\", \"Fichier\", \"Extension\", \"Statut\", \"Réparé\", \"Erreur\"])\n",
    "    writer.writerows(all_rows)\n",
    "\n",
    "df_global  = pd.DataFrame(all_rows, columns=[\"Année\", \"Fichier\", \"Extension\", \"Statut\", \"Réparé\", \"Erreur\"])\n",
    "df_resume  = df_global.groupby([\"Année\", \"Statut\"]).size().unstack(fill_value=0).reset_index()\n",
    "df_resume.to_csv(DOSSIER_RAPPORTS / \"resume_global.csv\", index=False)\n",
    "\n",
    "plt.figure(figsize=(12, 6))\n",
    "df_resume.set_index(\"Année\").plot(kind=\"bar\", stacked=True, ax=plt.gca())\n",
    "plt.title(\"Nombre de fichiers traités par année et par statut\")\n",
    "plt.xlabel(\"Année\")\n",
    "plt.ylabel(\"Nombre de fichiers\")\n",
    "plt.xticks(rotation=45)\n",
    "plt.tight_layout()\n",
    "plt.savefig(DOSSIER_RAPPORTS / \"resume_plot.png\")\n",
    "plt.show()\n",
    "\n",
    "print(\"\\n📊  Résumé global :\")\n",
    "print(df_resume)\n",
    "print(f\"\\n📝  Rapports enregistrés dans : {DOSSIER_RAPPORTS}\")\n",
    "\n",
    "# ---------------------------------------------------------------------------\n",
    "# Nettoyage du dossier temporaire\n",
    "# ---------------------------------------------------------------------------\n",
    "for f in DOSSIER_TEMP.glob(\"*\"):\n",
    "    f.unlink()\n",
    "try:\n",
    "    DOSSIER_TEMP.rmdir()\n",
    "except OSError:\n",
    "    pass\n",
    "\n"
   ]
  },
  {
   "cell_type": "markdown",
   "id": "8f89db80-b3e8-4167-a8ff-9811290cbe6d",
   "metadata": {},
   "source": [
    "## Génération du rapport HTML et PDF avec plotly"
   ]
  },
  {
   "cell_type": "code",
   "execution_count": null,
   "id": "8e152ec1-f92e-44ef-929a-46d05816c3d6",
   "metadata": {},
   "outputs": [],
   "source": [
    "import plotly.express as px\n",
    "import plotly.graph_objects as go\n",
    "import pandas as pd\n",
    "\n",
    "# --- Création des données ---\n",
    "df_global  = pd.DataFrame(all_rows, columns=[\"Année\", \"Fichier\", \"Extension\", \"Statut\", \"Réparé\", \"Erreur\"])\n",
    "df_resume  = df_global.groupby([\"Année\", \"Statut\"]).size().unstack(fill_value=0).reset_index()\n",
    "\n",
    "# --- Graphique interactif ---\n",
    "fig = px.bar(\n",
    "    df_resume,\n",
    "    x=\"Année\",\n",
    "    y=df_resume.columns[1:],  # toutes les colonnes sauf \"Année\"\n",
    "    title=\"Nombre de fichiers traités par année et par statut\",\n",
    "    labels={\"value\": \"Nombre de fichiers\", \"variable\": \"Statut\"},\n",
    "    barmode=\"stack\",\n",
    "    color_discrete_sequence=px.colors.qualitative.Set2\n",
    ")\n",
    "fig.update_layout(\n",
    "    xaxis_title=\"Année\",\n",
    "    yaxis_title=\"Nombre de fichiers\",\n",
    "    legend_title=\"Statut\",\n",
    "    xaxis_tickangle=-45,\n",
    "    bargap=0.2,\n",
    ")\n",
    "\n",
    "# Sauvegarde en HTML interactif\n",
    "fig.write_html(str(DOSSIER_RAPPORTS / \"resume_plot.html\"))\n",
    "\n",
    "# --- Tableau interactif ---\n",
    "table_fig = go.Figure(data=[go.Table(\n",
    "    header=dict(\n",
    "        values=list(df_resume.columns),\n",
    "        fill_color='paleturquoise',\n",
    "        align='left'\n",
    "    ),\n",
    "    cells=dict(\n",
    "        values=[df_resume[col] for col in df_resume.columns],\n",
    "        fill_color='lavender',\n",
    "        align='left'\n",
    "    )\n",
    ")])\n",
    "\n",
    "# Sauvegarde en HTML\n",
    "table_fig.write_html(str(DOSSIER_RAPPORTS / \"resume_table.html\"))\n",
    "\n",
    "# --- Sauvegarde CSV classique ---\n",
    "df_resume.to_csv(DOSSIER_RAPPORTS / \"resume_global.csv\", index=False)\n",
    "\n",
    "# --- Console output ---\n",
    "print(\"\\n📊  Résumé global :\")\n",
    "print(df_resume)\n",
    "print(f\"\\n📈  Graphique enregistré dans : {DOSSIER_RAPPORTS / 'resume_plot.html'}\")\n",
    "print(f\"📋  Tableau enregistré dans : {DOSSIER_RAPPORTS / 'resume_table.html'}\")\n"
   ]
  },
  {
   "cell_type": "markdown",
   "id": "bfbb234c-1323-4b64-887b-ab46eac7e0b6",
   "metadata": {},
   "source": [
    "# Etape 3 : Conversion des fichiers non océrisés en fichiers océrisé\n",
    "\n",
    "- Parcourt les fichiers PDF du dossier RRT_SANS_OCR (ceux sans texte).\n",
    "- Convertit chaque page en image.\n",
    "- Applique l'OCR avec Tesseract pour extraire le texte.\n",
    "- Enregistre un fichier .txt contenant le texte OCRisé dans un nouveau dossier : RRT_OCR_FROM_IMG.\n",
    "\n",
    "Installer: pip install ocrmypdf pytesseract pdf2image pillow"
   ]
  },
  {
   "cell_type": "markdown",
   "id": "c46cc4f8-9552-4f97-b733-9fe8dd5cdc69",
   "metadata": {},
   "source": [
    "## 📘 Script : OCR sur les fichiers non-OCR (image → texte)"
   ]
  },
  {
   "cell_type": "markdown",
   "id": "f2a8f943-ad7a-4079-a4a3-473b6cca522b",
   "metadata": {},
   "source": [
    "### Marche à suivre pour faire fonctionner le script OCR\n",
    "\n",
    "#### 1. Installer les dépendances Python\n",
    "\n",
    "Assurez-vous d’avoir installé les paquets nécessaires :\n",
    "\n",
    "```bash\n",
    "pip install pdf2image pytesseract openpyxl tqdm ipywidgets\n",
    "```\n",
    "\n",
    "#### 2. Installer Poppler\n",
    "\n",
    "`pdf2image` utilise **Poppler** pour convertir les pages PDF en images.\n",
    "\n",
    "- Téléchargez Poppler pour Windows ici :  \n",
    "  [https://github.com/oschwartz10612/poppler-windows/releases/latest](https://github.com/oschwartz10612/poppler-windows/releases/latest)\n",
    "\n",
    "- Choisissez l’archive ZIP la plus récente et décompressez-la (par exemple sur le Bureau)\n",
    "- Le chemin du dossier `bin` à utiliser dans le script sera quelque chose comme :  \n",
    "  `C:\\Users\\<votre_nom>\\Desktop\\poppler-xx.xx.x\\Library\\bin`\n",
    "\n",
    "#### 3. Installer Tesseract OCR\n",
    "\n",
    "- Téléchargez et installez **Tesseract OCR** pour Windows :  \n",
    "  [https://github.com/tesseract-ocr/tesseract/releases/latest](https://github.com/tesseract-ocr/tesseract/releases/latest)\n",
    "\n",
    "- Pendant l’installation, sélectionnez les langues dont vous avez besoin (ex : français)\n",
    "- Ajoutez le chemin du dossier `Tesseract` à votre variable d’environnement **PATH**  \n",
    "  ou utilisez le chemin complet dans votre script (ex :  \n",
    "  `pytesseract.pytesseract.tesseract_cmd = r\"C:\\Program Files\\Tesseract-OCR\\tesseract.exe\"`)\n"
   ]
  },
  {
   "cell_type": "code",
   "execution_count": null,
   "id": "6ab4e9d3-ef7a-4402-952f-e338d8b21219",
   "metadata": {},
   "outputs": [],
   "source": [
    "import os\n",
    "from pathlib import Path\n",
    "from pdf2image import convert_from_path\n",
    "import pytesseract\n",
    "from PyPDF2 import PdfMerger\n",
    "from io import BytesIO\n",
    "from tqdm import tqdm\n",
    "import ipywidgets as widgets\n",
    "from IPython.display import display\n",
    "\n",
    "# ====================\n",
    "# OCR D'UN PDF (streaming)\n",
    "# ====================\n",
    "def ocr_pdf_file_streaming(args):\n",
    "    input_pdf, output_base_dir, poppler_path, lang = args\n",
    "    try:\n",
    "        file = os.path.basename(input_pdf)\n",
    "        year = os.path.basename(os.path.dirname(input_pdf))\n",
    "        year_dir = os.path.join(output_base_dir, year)\n",
    "        os.makedirs(year_dir, exist_ok=True)\n",
    "        output_pdf = os.path.join(year_dir, file)\n",
    "\n",
    "        # OCR en streaming → ajout direct page par page\n",
    "        merger = PdfMerger()\n",
    "        pages = convert_from_path(input_pdf, dpi=300, poppler_path=poppler_path)\n",
    "\n",
    "        for page in tqdm(pages, desc=f\"OCR {file}\", leave=False):\n",
    "            pdf_bytes = pytesseract.image_to_pdf_or_hocr(page, extension='pdf', lang=lang)\n",
    "            merger.append(BytesIO(pdf_bytes))\n",
    "\n",
    "        with open(output_pdf, 'wb') as f_out:\n",
    "            merger.write(f_out)\n",
    "\n",
    "        return f\"[OK] {file}\"\n",
    "    except Exception as e:\n",
    "        return f\"[ERREUR] {file} : {e}\"\n",
    "\n",
    "# ====================\n",
    "# OCR POUR UN DOSSIER\n",
    "# ====================\n",
    "def ocr_pdf_folder_streaming(input_dir, output_dir, poppler_path, lang='fra'):\n",
    "    input_dir = Path(input_dir)\n",
    "    output_dir = Path(output_dir)\n",
    "    output_dir.mkdir(parents=True, exist_ok=True)\n",
    "\n",
    "    # Récupérer tous les PDFs par année\n",
    "    pdf_files = []\n",
    "    for year in range(1980, 2026):\n",
    "        year_dir = input_dir / str(year)\n",
    "        if year_dir.exists():\n",
    "            for file in os.listdir(year_dir):\n",
    "                if file.lower().endswith('.pdf'):\n",
    "                    pdf_files.append(str(year_dir / file))\n",
    "\n",
    "    if not pdf_files:\n",
    "        print(\"Aucun PDF trouvé dans le dossier source !\")\n",
    "        return\n",
    "\n",
    "    print(f\"Début OCR de {len(pdf_files)} fichiers...\")\n",
    "\n",
    "    results = []\n",
    "    for pdf in tqdm(pdf_files, desc=\"PDFs\"):\n",
    "        res = ocr_pdf_file_streaming((pdf, str(output_dir), poppler_path, lang))\n",
    "        results.append(res)\n",
    "\n",
    "    for r in results:\n",
    "        print(r)\n",
    "    print(\"=== OCR terminé pour tous les PDFs ===\")\n",
    "\n",
    "# ====================\n",
    "# WIDGETS JUPYTER\n",
    "# ====================\n",
    "src_w = widgets.Text(value=r'C:\\xxxxxxxxxxxx\\output\\RRT_SANS_OCR',\n",
    "                     description='Dossier source:')\n",
    "dst_w = widgets.Text(value=r'C:\\xxxxxxxxxxx\\output\\pdf_océrisés',\n",
    "                     description='Dossier destination:')\n",
    "poppler_w = widgets.Text(value=r'C:\\xxxxxxxxxxx\\poppler-25.07.0\\Library\\bin',\n",
    "                         description='Chemin Poppler:')\n",
    "lang_w = widgets.Dropdown(options=['fra', 'eng', 'deu'], value='fra', description='Langue OCR:')\n",
    "btn_run = widgets.Button(description=\"Lancer OCR\")\n",
    "out = widgets.Output()\n",
    "\n",
    "def on_btn_run_clicked(b):\n",
    "    with out:\n",
    "        out.clear_output()\n",
    "        ocr_pdf_folder_streaming(\n",
    "            input_dir=src_w.value,\n",
    "            output_dir=dst_w.value,\n",
    "            poppler_path=poppler_w.value,\n",
    "            lang=lang_w.value\n",
    "        )\n",
    "\n",
    "btn_run.on_click(on_btn_run_clicked)\n",
    "display(src_w, dst_w, poppler_w, lang_w, btn_run, out)"
   ]
  }
 ],
 "metadata": {
  "kernelspec": {
   "display_name": "Python 3 (ipykernel)",
   "language": "python",
   "name": "python3"
  },
  "language_info": {
   "codemirror_mode": {
    "name": "ipython",
    "version": 3
   },
   "file_extension": ".py",
   "mimetype": "text/x-python",
   "name": "python",
   "nbconvert_exporter": "python",
   "pygments_lexer": "ipython3",
   "version": "3.11.7"
  }
 },
 "nbformat": 4,
 "nbformat_minor": 5
}
